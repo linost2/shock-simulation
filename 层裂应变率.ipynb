{
 "cells": [
  {
   "cell_type": "code",
   "execution_count": 340,
   "metadata": {},
   "outputs": [],
   "source": [
    "import matplotlib.pyplot as plt\n",
    "import pandas as pd"
   ]
  },
  {
   "cell_type": "code",
   "execution_count": 341,
   "metadata": {},
   "outputs": [],
   "source": [
    "path = r\"D:\\Youlin Zhu\\2021实验室\\分子动力学\\数据处理\\strainrate\\sample40\"\n",
    "outfig = \"strainrate40.tiff\""
   ]
  },
  {
   "cell_type": "code",
   "execution_count": 342,
   "metadata": {},
   "outputs": [],
   "source": [
    "df = pd.read_excel(path+\"/\"+\"cut.xlsx\",sheet_name=0, header=0,index_col=0)"
   ]
  },
  {
   "cell_type": "code",
   "execution_count": 343,
   "metadata": {},
   "outputs": [
    {
     "name": "stdout",
     "output_type": "stream",
     "text": [
      "层裂时刻为11.2ps,层裂强度为-13.2665GPa\n"
     ]
    }
   ],
   "source": [
    "goal_xaxis=\"Coord1\"\n",
    "goal_yaxis=\"c_vx[1]\"\n",
    "Tsp=df.loc[:].idxmin()[\"v_pressurexx\"]#定位时刻，可手动改为 XX (ps)\n",
    "Fsp=df.loc[:].min()[\"v_pressurexx\"]#定位最大拉应力\n",
    "\n",
    "print(\"层裂时刻为{}ps,层裂强度为{}GPa\".format(Tsp,Fsp/10000))"
   ]
  },
  {
   "cell_type": "code",
   "execution_count": 344,
   "metadata": {},
   "outputs": [],
   "source": [
    "df1=pd.read_excel(path+\"/\"+\"cut.xlsx\",sheet_name=0, header=0)\n",
    "m=df1.loc[:].idxmin()[\"v_pressurexx\"]"
   ]
  },
  {
   "cell_type": "code",
   "execution_count": 345,
   "metadata": {},
   "outputs": [
    {
     "name": "stdout",
     "output_type": "stream",
     "text": [
      "层裂位置为387.904nm附近,应变率为33.246*10^10\n"
     ]
    }
   ],
   "source": [
    "p=df1.loc[m,\"Coord1\"]\n",
    "p1=df1.loc[m-1,'Coord1']\n",
    "p2=df1.loc[m+1,'Coord1']\n",
    "v1=df1.loc[m-1,'c_vx[1]']\n",
    "v2=df1.loc[m+1,'c_vx[1]']\n",
    "strain_rate=(v2-v1)/(p2-p1)\n",
    "print(\"层裂位置为{:.3f}nm附近,应变率为{:.3f}*10^10\".format(p,strain_rate*1000))"
   ]
  },
  {
   "cell_type": "code",
   "execution_count": 346,
   "metadata": {},
   "outputs": [],
   "source": [
    "xaxis=df.loc[Tsp,goal_xaxis].values\n",
    "yaxis=df.loc[Tsp,goal_yaxis].values"
   ]
  },
  {
   "cell_type": "code",
   "execution_count": 347,
   "metadata": {},
   "outputs": [
    {
     "data": {
      "text/plain": [
       "Text(0, 0.5, 'Velocity Z (km/s)')"
      ]
     },
     "execution_count": 347,
     "metadata": {},
     "output_type": "execute_result"
    },
    {
     "data": {
      "image/png": "[encoded data removed]",
      "text/plain": [
       "<Figure size 432x288 with 1 Axes>"
      ]
     },
     "metadata": {
      "needs_background": "light"
     },
     "output_type": "display_data"
    }
   ],
   "source": [
    "plt.figure(num=1)\n",
    "plt.rcParams['xtick.direction'] = 'in'\n",
    "plt.rcParams['ytick.direction'] = 'in'\n",
    "plt.plot(xaxis,yaxis,color='blue',linewidth=1.5)\n",
    "\n",
    "#plt.ylim()\n",
    "plt.xticks([200,400,600,800,1000,1200,1400,1600,1800,2000],[20,40,60,80,100,120,140,160,180,200],fontproperties = 'Times New Roman',size = 14)\n",
    "plt.xlim(-20,2200)\n",
    "plt.yticks([0,2,4,6,8,10],[0,0.2,0.4,0.6,0.8,1.0],fontproperties = 'Times New Roman',size = 14)\n",
    "plt.xlabel(\"Position (nm)\",fontdict={'family' : 'Times New Roman', 'size'   : 16})\n",
    "plt.ylabel(\"Velocity Z (km/s)\",fontdict={'family' : 'Times New Roman', 'size'   : 16})\n",
    "#plt.savefig(path+\"/\"+outfig,dpi=600)"
   ]
  },
  {
   "cell_type": "code",
   "execution_count": null,
   "metadata": {},
   "outputs": [],
   "source": []
  }
 ],
 "metadata": {
  "kernelspec": {
   "display_name": "Python 3",
   "language": "python",
   "name": "python3"
  },
  "language_info": {
   "codemirror_mode": {
    "name": "ipython",
    "version": 3
   },
   "file_extension": ".py",
   "mimetype": "text/x-python",
   "name": "python",
   "nbconvert_exporter": "python",
   "pygments_lexer": "ipython3",
   "version": "3.7.6"
  }
 },
 "nbformat": 4,
 "nbformat_minor": 4
}
