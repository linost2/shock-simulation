{
 "cells": [
  {
   "cell_type": "code",
   "execution_count": 8,
   "metadata": {},
   "outputs": [],
   "source": [
    "#该代码实现对于目标文件夹下pressure.profile的遍历、数据处理及绘图，作者Youlin \n",
    "\n",
    "import pandas as pd\n",
    "import os\n",
    "\n",
    "input_filename = \"pressure.profile\" #原始数据文件名\n",
    "mergespace_file = \"mergespace.txt\"  #合并空格后文件名\n",
    "parse_file = \"parse.xlsx\"               #分列后文件名\n",
    "fullfill_file=\"fullfill.xlsx\"              #填充后文件名\n",
    "cut_file=\"cut.xlsx\""
   ]
  },
  {
   "cell_type": "code",
   "execution_count": 9,
   "metadata": {},
   "outputs": [],
   "source": [
    "# 变量初始化过程包括路径、变量名\n",
    "def main():\n",
    "    rootdir=r\"D:\\Youlin Zhu\\2021实验室\\分子动力学\\数据处理\\strainrate\"\n",
    "    global list\n",
    "    list = os.listdir(rootdir)\n",
    "\n",
    "    for i in range(len(list)):\n",
    "      global path\n",
    "      path = os.path.join(rootdir,list[i])\n",
    "      print (\"我正在\"+path+\"下处理！\")\n",
    "      data_processing()\n",
    "\n",
    "    #global path\n",
    "    #path = r\"D:\\Youlin Zhu\\2021实验室\\分子动力学\\数据处理\\strainrate\\sample40\"\n",
    "    #data_processing()\n",
    "    #print(\"我在\"+path+\"下处理完毕！\")"
   ]
  },
  {
   "cell_type": "code",
   "execution_count": 10,
   "metadata": {},
   "outputs": [],
   "source": [
    "# 将初始文件首行连续空格转化为一个写入一个新文件mergespace_filename\n",
    "def mergespace():\n",
    "    f=open (path+'/'+input_filename,\"r\")\n",
    "    f1=open(path+'/'+mergespace_file,\"w\")\n",
    "    data=f.readlines()\n",
    "    for line in data:\n",
    "        if line[0]==\" \":\n",
    "            f1.write(line[1:])\n",
    "        else:\n",
    "            f1.write(line[0:])\n",
    "\n",
    "    f.close()\n",
    "    f1.close()"
   ]
  },
  {
   "cell_type": "code",
   "execution_count": 11,
   "metadata": {},
   "outputs": [],
   "source": [
    "#数据按空格分列后转化为数值写入excel,column为表头（第一行）名称\n",
    "def parse():\n",
    "    df = pd.read_csv(path+'/'+mergespace_file)\n",
    "    column='# Chunk-averaged data for fix pressure_profile and group v_pressurexx'\n",
    "    df= df[column].str.split(\" \",expand=True)\n",
    "    df.iloc[2:,:]=df.iloc[2:,:].apply(pd.to_numeric)\n",
    "    df1=df.drop(labels=range(0,1),axis=0)\n",
    "    df1.to_excel(path+'/'+parse_file,index=False,header=0)"
   ]
  },
  {
   "cell_type": "code",
   "execution_count": 12,
   "metadata": {},
   "outputs": [],
   "source": [
    "#填充时间，根据步长转化为ps\n",
    "def fullfill():\n",
    "    df=pd.read_excel(path+'/'+parse_file,header=0)\n",
    "    k=df.shape[0]-1\n",
    "    for i in range(k):\n",
    "        if pd.isna(df.iloc[i,0]):\n",
    "            if df.iloc[i,1]==1:\n",
    "                df.iloc[i,0]=df.iloc[i-1,0]/1000\n",
    "            else:\n",
    "                df.iloc[i,0]=df.iloc[i-1,0]\n",
    "    df.to_excel(path+'/'+fullfill_file,index=False)"
   ]
  },
  {
   "cell_type": "code",
   "execution_count": 13,
   "metadata": {},
   "outputs": [],
   "source": [
    "#删除不稳定的最后一个切片数据及靶材接触切片数据\n",
    "def cut_lastbin():\n",
    "    df=pd.read_excel(path+'/'+fullfill_file,header=0)\n",
    "    k=df.shape[0]\n",
    "    index_to_drop=[]\n",
    "    index_to_drop.append(k-1)\n",
    "    for i in df.index-1:\n",
    "        #if df.iloc[i,0]>200:\n",
    "        #    index_to_drop.append(i-1)\n",
    "        if df.iloc[i,3]==0 and df.iloc[i+1,4]!=0 and pd.notna(df.iloc[i+1,3]):\n",
    "            index_to_drop.append(i+1)\n",
    "    df.drop(df.index[index_to_drop],inplace=True)\n",
    "    df.to_excel(path+'/'+cut_file,index=False)"
   ]
  },
  {
   "cell_type": "code",
   "execution_count": 14,
   "metadata": {},
   "outputs": [
    {
     "name": "stdout",
     "output_type": "stream",
     "text": [
      "我正在D:\\Youlin Zhu\\2021实验室\\分子动力学\\数据处理\\strainrate\\sample100下处理！\n",
      "我正在D:\\Youlin Zhu\\2021实验室\\分子动力学\\数据处理\\strainrate\\sample120下处理！\n",
      "我正在D:\\Youlin Zhu\\2021实验室\\分子动力学\\数据处理\\strainrate\\sample40下处理！\n",
      "我正在D:\\Youlin Zhu\\2021实验室\\分子动力学\\数据处理\\strainrate\\sample60下处理！\n",
      "我正在D:\\Youlin Zhu\\2021实验室\\分子动力学\\数据处理\\strainrate\\sample80下处理！\n",
      "帮你处理了5个文件，有点辛苦\n"
     ]
    }
   ],
   "source": [
    "#调用数据处理        \n",
    "def data_processing():\n",
    "    mergespace()\n",
    "    parse()\n",
    "    fullfill()\n",
    "    cut_lastbin()\n",
    "#运行主函数，等待收获数据\n",
    "main()\n",
    "print(\"帮你处理了{}个文件，有点辛苦\".format(len(list)))"
   ]
  },
  {
   "cell_type": "code",
   "execution_count": null,
   "metadata": {},
   "outputs": [],
   "source": []
  },
  {
   "cell_type": "code",
   "execution_count": null,
   "metadata": {},
   "outputs": [],
   "source": []
  }
 ],
 "metadata": {
  "kernelspec": {
   "display_name": "Python 3",
   "language": "python",
   "name": "python3"
  },
  "language_info": {
   "codemirror_mode": {
    "name": "ipython",
    "version": 3
   },
   "file_extension": ".py",
   "mimetype": "text/x-python",
   "name": "python",
   "nbconvert_exporter": "python",
   "pygments_lexer": "ipython3",
   "version": "3.7.6"
  }
 },
 "nbformat": 4,
 "nbformat_minor": 4
}
