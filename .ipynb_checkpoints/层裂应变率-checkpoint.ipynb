{
 "cells": [
  {
   "cell_type": "code",
   "execution_count": 98,
   "metadata": {},
   "outputs": [],
   "source": [
    "import matplotlib.pyplot as plt\n",
    "import pandas as pd\n",
    "\n",
    "color=['red','green','blue','purple','cyan','pink']"
   ]
  },
  {
   "cell_type": "code",
   "execution_count": 99,
   "metadata": {},
   "outputs": [],
   "source": [
    "path=r\"D:\\Youlin Zhu\\2021实验室\\分子动力学\\数据处理\\strainrate\\sample40\""
   ]
  },
  {
   "cell_type": "code",
   "execution_count": 105,
   "metadata": {},
   "outputs": [
    {
     "name": "stdout",
     "output_type": "stream",
     "text": [
      "层裂时刻为12.8ps，层裂强度为-12.369GPa\n"
     ]
    }
   ],
   "source": [
    "df=pd.read_excel(path+\"/\"+\"fullfill.xlsx\",sheet_name=0, header=0,index_col=0)\n",
    "goal_xaxis=\"Coord1\"\n",
    "goal_yaxis=\"c_vx[1]\"\n",
    "Tsp=df.loc[12:15].idxmin()[\"v_pressurexx\"]\n",
    "Psp=df.loc[12:15].min()[\"v_pressurexx\"]/10000#定位时刻，可手动改为 XX (ps)\n",
    "print(\"层裂时刻为{}ps，层裂强度为{}GPa\".format(Tsp,Psp))\n",
    "xaxis=df.loc[Tsp,goal_xaxis].values\n",
    "yaxis=df.loc[Tsp,goal_yaxis].values"
   ]
  },
  {
   "cell_type": "code",
   "execution_count": 106,
   "metadata": {},
   "outputs": [
    {
     "data": {
      "text/plain": [
       "Text(0, 0.5, 'Velocity Z (km/s)')"
      ]
     },
     "execution_count": 106,
     "metadata": {},
     "output_type": "execute_result"
    },
    {
     "data": {
      "image/png": "[encoded data removed]",
      "text/plain": [
       "<Figure size 432x288 with 1 Axes>"
      ]
     },
     "metadata": {
      "needs_background": "light"
     },
     "output_type": "display_data"
    }
   ],
   "source": [
    "plt.figure(num=1)\n",
    "plt.rcParams['xtick.direction'] = 'in'\n",
    "plt.rcParams['ytick.direction'] = 'in'\n",
    "plt.plot(xaxis,yaxis,color='red',linewidth=1.5)\n",
    "plt.xticks([200,400,600,800],fontproperties = 'Times New Roman',size = 14)\n",
    "plt.yticks([0,2,4,6,8,10],[0,0.2,0.4,0.6,0.8,1.0],fontproperties = 'Times New Roman',size = 14)\n",
    "plt.xlabel(\"Position (nm)\",fontdict={'family' : 'Times New Roman', 'size'   : 16})\n",
    "plt.ylabel(\"Velocity Z (km/s)\",fontdict={'family' : 'Times New Roman', 'size'   : 16})\n",
    "#plt.savefig(path，dpi=600) #保存"
   ]
  },
  {
   "cell_type": "code",
   "execution_count": null,
   "metadata": {},
   "outputs": [],
   "source": []
  }
 ],
 "metadata": {
  "kernelspec": {
   "display_name": "Python 3",
   "language": "python",
   "name": "python3"
  },
  "language_info": {
   "codemirror_mode": {
    "name": "ipython",
    "version": 3
   },
   "file_extension": ".py",
   "mimetype": "text/x-python",
   "name": "python",
   "nbconvert_exporter": "python",
   "pygments_lexer": "ipython3",
   "version": "3.7.6"
  }
 },
 "nbformat": 4,
 "nbformat_minor": 4
}
