{
 "cells": [
  {
   "cell_type": "code",
   "execution_count": 9,
   "metadata": {},
   "outputs": [],
   "source": [
    "import matplotlib.pyplot as plt\n",
    "import pandas as pd\n",
    "import os"
   ]
  },
  {
   "cell_type": "code",
   "execution_count": 10,
   "metadata": {},
   "outputs": [],
   "source": [
    "root = r\"D:\\Youlin Zhu\\2021实验室\\分子动力学\\数据处理\\strainrate\"\n",
    "outfig = \"VzAll.tiff\""
   ]
  },
  {
   "cell_type": "code",
   "execution_count": 11,
   "metadata": {},
   "outputs": [
    {
     "data": {
      "text/plain": [
       "<Figure size 432x288 with 0 Axes>"
      ]
     },
     "metadata": {},
     "output_type": "display_data"
    }
   ],
   "source": [
    "plt.figure(num=1)  \n",
    "plt.rcParams['xtick.direction'] = 'in'\n",
    "plt.rcParams['ytick.direction'] = 'in'\n",
    "color=[\"red\",\"blue\",\"green\",\"black\",\"orange\",\"yellow\",\"cyan\",\"purple\",\"pink\",]\n",
    "ci=0"
   ]
  },
  {
   "cell_type": "code",
   "execution_count": null,
   "metadata": {},
   "outputs": [],
   "source": [
    "df=pd.read_excel(r'D:\\Youlin Zhu\\2021实验室\\分子动力学\\数据处理\\duration_strainrate\\D5\\cut.xlsx',sheet_name=0, header=0)\n",
    "\n",
    "axistime=[]\n",
    "axisvelocity=[]\n",
    "k=df.shape[0]\n",
    "for i in range(k):\n",
    "    if df.iloc[i,0]>200:\n",
    "        axistime.append(df.iloc[i-1,0])\n",
    "        axisvelocity.append(df.iloc[i-1,8])"
   ]
  },
  {
   "cell_type": "code",
   "execution_count": 15,
   "metadata": {},
   "outputs": [
    {
     "data": {
      "text/plain": [
       "Text(0, 0.5, 'Velocity Z (km/s)')"
      ]
     },
     "execution_count": 15,
     "metadata": {},
     "output_type": "execute_result"
    },
    {
     "data": {
      "image/png": "[encoded data removed]",
      "text/plain": [
       "<Figure size 432x288 with 1 Axes>"
      ]
     },
     "metadata": {
      "needs_background": "light"
     },
     "output_type": "display_data"
    }
   ],
   "source": [
    "\n",
    "#list = os.listdir(root)\n",
    "#for j in range(len(list)):\n",
    "#    path = os.path.join(root,list[j])\n",
    "#    df = pd.read_excel(path+\"/\"+\"cut.xlsx\",sheet_name=0, header=0)\n",
    "#    axistime=[]\n",
    "#    axisvelocity=[]\n",
    "#    k=df.shape[0]\n",
    "#    for i in range(k):\n",
    "#        if df.iloc[i,0]>200:\n",
    "#            axistime.append(df.iloc[i-1,0])\n",
    "#            axisvelocity.append(df.iloc[i-1,8])\n",
    "#    plt.plot(axistime,axisvelocity,color=color[ci],linewidth=1.5)\n",
    "#    ci+=1\n",
    "\n",
    "plt.plot(axistime,axisvelocity,color=color[ci],linewidth=1.5)\n",
    "plt.xticks(fontproperties = 'Times New Roman', size = 14)\n",
    "plt.yticks([0,2,6,10,14],[0,0.2,0.6,1.0,1.4],fontproperties = 'Times New Roman', size = 14)\n",
    "plt.xlim(-10,90)\n",
    "plt.ylim(-1,15)\n",
    "plt.xlabel(\"Time (ps)\",fontdict={'family' : 'Times New Roman', 'size'   : 16})\n",
    "plt.ylabel(\"Velocity Z (km/s)\",fontdict={'family' : 'Times New Roman', 'size'   : 16})\n",
    "#plt.savefig(r\"C:\\Users\\Youlin Zhu\\Desktop\\1.tiff\",dpi=600)"
   ]
  },
  {
   "cell_type": "code",
   "execution_count": null,
   "metadata": {},
   "outputs": [],
   "source": []
  },
  {
   "cell_type": "code",
   "execution_count": null,
   "metadata": {},
   "outputs": [],
   "source": []
  }
 ],
 "metadata": {
  "kernelspec": {
   "display_name": "Python 3",
   "language": "python",
   "name": "python3"
  },
  "language_info": {
   "codemirror_mode": {
    "name": "ipython",
    "version": 3
   },
   "file_extension": ".py",
   "mimetype": "text/x-python",
   "name": "python",
   "nbconvert_exporter": "python",
   "pygments_lexer": "ipython3",
   "version": "3.7.6"
  }
 },
 "nbformat": 4,
 "nbformat_minor": 4
}
